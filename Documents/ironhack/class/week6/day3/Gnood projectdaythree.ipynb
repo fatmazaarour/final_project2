version https://git-lfs.github.com/spec/v1
oid sha256:ebe9607142468014106c038ed3668a1ed6a707df391ba2c238024da82bee7a1c
size 560168
