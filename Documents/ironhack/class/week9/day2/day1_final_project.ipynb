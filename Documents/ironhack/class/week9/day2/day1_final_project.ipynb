version https://git-lfs.github.com/spec/v1
oid sha256:9e60d1888826499261eb233d321ef4cd61106f931d5d14c5b1e957b913dacb7f
size 1407031
